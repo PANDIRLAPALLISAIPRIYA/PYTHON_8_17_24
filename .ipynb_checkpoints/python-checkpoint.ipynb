{
 "cells": [
  {
   "cell_type": "code",
   "execution_count": null,
   "id": "5854ef02-1f42-4a5e-9ae3-618c3fdee9d6",
   "metadata": {},
   "outputs": [],
   "source": [
    " we have three cases in conditional staements\n",
    "-case -1 : if \n",
    "-case 2-: if -else\n",
    "-case -3: if -elif -else \n",
    " -conditional staements mean we are asking a question \n",
    "- when we ask the question computer will give true and false \n",
    "- if true we wants to execute statements \n",
    "- if false also we can execute statements\n"
   ]
  },
  {
   "cell_type": "code",
   "execution_count": null,
   "id": "09076917-5bdc-4d5b-9195-2f04ad8523b4",
   "metadata": {},
   "outputs": [],
   "source": [
    "case -1 : if \n"
   ]
  },
  {
   "cell_type": "code",
   "execution_count": null,
   "id": "88e16635-c807-4b33-bb62-2dfe55f88852",
   "metadata": {},
   "outputs": [],
   "source": [
    "#syntax \n",
    "# if the state ment starts with any keyboard\n",
    "# end of the sttement :will be there \n",
    "# when : is there then we need to provide indentation \n",
    "# indentation means next lines has start with some space\n",
    "   # if <condition>:\n",
    "#<st1>\n",
    "#<st2>\n",
    "------\n",
    "#<stn>"
   ]
  },
  {
   "cell_type": "code",
   "execution_count": 1,
   "id": "2c559365-d946-48bc-9428-94f4330c1444",
   "metadata": {},
   "outputs": [
    {
     "name": "stdout",
     "output_type": "stream",
     "text": [
      "10\n"
     ]
    }
   ],
   "source": [
    "a=10\n",
    "print (a)\n"
   ]
  },
  {
   "cell_type": "code",
   "execution_count": 2,
   "id": "e944f417-586b-4a1e-956b-d65403432104",
   "metadata": {},
   "outputs": [
    {
     "data": {
      "text/plain": [
       "True"
      ]
     },
     "execution_count": 2,
     "metadata": {},
     "output_type": "execute_result"
    }
   ],
   "source": [
    "100>10"
   ]
  },
  {
   "cell_type": "code",
   "execution_count": null,
   "id": "3f8e79b2-3971-4211-898d-e515c1560990",
   "metadata": {},
   "outputs": [],
   "source": [
    "if 100>10:\n",
    "    print (\"hello\")\n",
    "    "
   ]
  },
  {
   "cell_type": "code",
   "execution_count": 4,
   "id": "f9a725da-69c8-439e-8f7d-4b3f121bba93",
   "metadata": {},
   "outputs": [
    {
     "ename": "IndentationError",
     "evalue": "expected an indented block after 'if' statement on line 1 (1112042443.py, line 2)",
     "output_type": "error",
     "traceback": [
      "\u001b[1;36m  Cell \u001b[1;32mIn[4], line 2\u001b[1;36m\u001b[0m\n\u001b[1;33m    print (\"hello\")\u001b[0m\n\u001b[1;37m    ^\u001b[0m\n\u001b[1;31mIndentationError\u001b[0m\u001b[1;31m:\u001b[0m expected an indented block after 'if' statement on line 1\n"
     ]
    }
   ],
   "source": [
    "if 100>10:\n",
    "print (\"hello\")\n",
    "    \n",
    "    "
   ]
  },
  {
   "cell_type": "code",
   "execution_count": null,
   "id": "3320b12e-453c-4200-b789-2d39358c0c1c",
   "metadata": {},
   "outputs": [],
   "source": [
    "error no 1 :\n",
    "**indentation error \n",
    "error no2 :\n"
   ]
  },
  {
   "cell_type": "code",
   "execution_count": null,
   "id": "507fdebb-bbc7-4728-9eea-6123313c8d88",
   "metadata": {},
   "outputs": [],
   "source": [
    "error no 2  : miss the : at the end \n"
   ]
  },
  {
   "cell_type": "code",
   "execution_count": null,
   "id": "e5a659f8-6b5e-45d1-8ba0-89f0ab579f14",
   "metadata": {},
   "outputs": [],
   "source": [
    "error no 3: no condition "
   ]
  },
  {
   "cell_type": "code",
   "execution_count": 5,
   "id": "e7859cb0-2a9f-4ca5-bf2d-986ee2ed9d24",
   "metadata": {},
   "outputs": [],
   "source": [
    "if 100<20:\n",
    "    print (\"python\")"
   ]
  },
  {
   "cell_type": "code",
   "execution_count": 7,
   "id": "4104bf97-ea92-49b0-abc1-930e78c20c76",
   "metadata": {},
   "outputs": [
    {
     "name": "stdout",
     "output_type": "stream",
     "text": [
      "python \n"
     ]
    }
   ],
   "source": [
    "if True:\n",
    "    print(\"python \")"
   ]
  },
  {
   "cell_type": "code",
   "execution_count": 9,
   "id": "808a1b78-0bcd-4c7b-a9e9-44d6a3fe0fdd",
   "metadata": {},
   "outputs": [],
   "source": [
    "if False:\n",
    "    print (\"python\")"
   ]
  },
  {
   "cell_type": "code",
   "execution_count": 10,
   "id": "e5e497fa-cd86-413b-97ff-ea21d78a1972",
   "metadata": {},
   "outputs": [
    {
     "name": "stdout",
     "output_type": "stream",
     "text": [
      "1\n",
      "2\n",
      "manish\n",
      "bye\n"
     ]
    }
   ],
   "source": [
    "print (1)\n",
    "print(2)\n",
    "if 100>10:\n",
    "    print (\"manish\")\n",
    "    print(\"bye\")"
   ]
  },
  {
   "cell_type": "code",
   "execution_count": 11,
   "id": "cf774d86-a73a-418b-b219-7bbaca28aeff",
   "metadata": {},
   "outputs": [
    {
     "name": "stdout",
     "output_type": "stream",
     "text": [
      "1\n",
      "2\n",
      "manish\n",
      "bye\n",
      "python\n",
      "hello\n"
     ]
    }
   ],
   "source": [
    "print (1)\n",
    "print(2)\n",
    "if 100>10:\n",
    "    print (\"manish\")\n",
    "    print(\"bye\")\n",
    "print(\"python\")\n",
    "print(\"hello\")"
   ]
  },
  {
   "cell_type": "code",
   "execution_count": 12,
   "id": "4aa21cd8-0154-40da-83e9-836596b7d77a",
   "metadata": {},
   "outputs": [
    {
     "ename": "IndentationError",
     "evalue": "expected an indented block after 'if' statement on line 3 (2977983854.py, line 4)",
     "output_type": "error",
     "traceback": [
      "\u001b[1;36m  Cell \u001b[1;32mIn[12], line 4\u001b[1;36m\u001b[0m\n\u001b[1;33m    print (\"manish\")\u001b[0m\n\u001b[1;37m    ^\u001b[0m\n\u001b[1;31mIndentationError\u001b[0m\u001b[1;31m:\u001b[0m expected an indented block after 'if' statement on line 3\n"
     ]
    }
   ],
   "source": [
    "print (1)\n",
    "print(2)\n",
    "if 100>10:\n",
    "print (\"manish\")"
   ]
  },
  {
   "cell_type": "code",
   "execution_count": 13,
   "id": "762db382-9787-46f2-a999-ec31430759e8",
   "metadata": {},
   "outputs": [
    {
     "name": "stdout",
     "output_type": "stream",
     "text": [
      "1\n",
      "2\n",
      "python\n",
      "hello\n"
     ]
    }
   ],
   "source": [
    "print (1)\n",
    "print(2)\n",
    "if 100<10:\n",
    "    print (\"manish\")\n",
    "    print(\"bye\")\n",
    "print(\"python\")\n",
    "print(\"hello\")"
   ]
  },
  {
   "cell_type": "code",
   "execution_count": 14,
   "id": "5b65a135-b4f5-49fe-b970-e505e73cc340",
   "metadata": {},
   "outputs": [
    {
     "name": "stdout",
     "output_type": "stream",
     "text": [
      "1\n",
      "2\n",
      "manish\n",
      "bye\n",
      "python\n",
      "hello\n",
      "good\n",
      "day\n"
     ]
    }
   ],
   "source": [
    "print (1)\n",
    "print(2)\n",
    "if 100>10:\n",
    "    print (\"manish\")\n",
    "    print(\"bye\")\n",
    "print(\"python\")\n",
    "print(\"hello\")\n",
    "if 1000>100:\n",
    "    print (\"good\")\n",
    "    print(\"day\")"
   ]
  },
  {
   "cell_type": "markdown",
   "id": "7c0794ae-ed2a-416e-9269-56cd6fa58e54",
   "metadata": {},
   "source": [
    "# case 2 :if - else "
   ]
  },
  {
   "cell_type": "code",
   "execution_count": null,
   "id": "a5eba7ac-9be4-413c-85e3-8d1502e3b29b",
   "metadata": {},
   "outputs": [],
   "source": [
    "#syntax\n",
    "#if <condition>:\n",
    "    #st1 \n",
    "    #st2\n",
    "else:\n",
    "   #st1\n",
    "    "
   ]
  },
  {
   "cell_type": "code",
   "execution_count": 15,
   "id": "2ad7143e-b67f-4dfe-ac81-9feb7f2371bb",
   "metadata": {},
   "outputs": [
    {
     "name": "stdout",
     "output_type": "stream",
     "text": [
      "true\n"
     ]
    }
   ],
   "source": [
    "if 100>10:\n",
    "    print(\"true\")\n",
    "else:\n",
    "    print (\"false\")"
   ]
  },
  {
   "cell_type": "code",
   "execution_count": 16,
   "id": "b4c3b339-51bf-44eb-af50-6efe0de79ca4",
   "metadata": {},
   "outputs": [
    {
     "name": "stdout",
     "output_type": "stream",
     "text": [
      "false\n"
     ]
    }
   ],
   "source": [
    "if 100<10:\n",
    "    print(\"true\")\n",
    "else:\n",
    "    print (\"false\")"
   ]
  },
  {
   "cell_type": "code",
   "execution_count": 17,
   "id": "6e5db739-df90-4785-9736-ac4fb504f1c7",
   "metadata": {},
   "outputs": [
    {
     "ename": "SyntaxError",
     "evalue": "expected ':' (885997155.py, line 3)",
     "output_type": "error",
     "traceback": [
      "\u001b[1;36m  Cell \u001b[1;32mIn[17], line 3\u001b[1;36m\u001b[0m\n\u001b[1;33m    else false:\u001b[0m\n\u001b[1;37m         ^\u001b[0m\n\u001b[1;31mSyntaxError\u001b[0m\u001b[1;31m:\u001b[0m expected ':'\n"
     ]
    }
   ],
   "source": [
    "if 100<10:\n",
    "    print(\"true\")\n",
    "else false:\n",
    "    print (\"false\")"
   ]
  },
  {
   "cell_type": "code",
   "execution_count": 18,
   "id": "c98b60d8-b864-46c8-b03a-303938a672f3",
   "metadata": {},
   "outputs": [
    {
     "ename": "SyntaxError",
     "evalue": "invalid syntax (3392978738.py, line 6)",
     "output_type": "error",
     "traceback": [
      "\u001b[1;36m  Cell \u001b[1;32mIn[18], line 6\u001b[1;36m\u001b[0m\n\u001b[1;33m    else:\u001b[0m\n\u001b[1;37m    ^\u001b[0m\n\u001b[1;31mSyntaxError\u001b[0m\u001b[1;31m:\u001b[0m invalid syntax\n"
     ]
    }
   ],
   "source": [
    "print (1)\n",
    "if 100>10:\n",
    "    print(\"true\")\n",
    "    print (\"2\")\n",
    "print (\"gap\")\n",
    "else:\n",
    "    print (\"false\")\n",
    "    print(\"4\")\n",
    "print(\"5\")"
   ]
  },
  {
   "cell_type": "code",
   "execution_count": 19,
   "id": "34f89e2d-8ec2-4966-8e83-fbfbebcd6c36",
   "metadata": {},
   "outputs": [
    {
     "name": "stdout",
     "output_type": "stream",
     "text": [
      "1\n",
      "true\n",
      "2\n",
      "5\n"
     ]
    }
   ],
   "source": [
    "print (1)\n",
    "if 100>10:\n",
    "    print(\"true\")\n",
    "    print (\"2\")\n",
    "else:\n",
    "    print (\"false\")\n",
    "    print(\"4\")\n",
    "print(\"5\")"
   ]
  },
  {
   "cell_type": "code",
   "execution_count": 21,
   "id": "0c38417d-e630-472e-ad5f-347820d00d88",
   "metadata": {},
   "outputs": [
    {
     "name": "stdout",
     "output_type": "stream",
     "text": [
      "1\n",
      "true\n"
     ]
    },
    {
     "ename": "ZeroDivisionError",
     "evalue": "division by zero",
     "output_type": "error",
     "traceback": [
      "\u001b[1;31m---------------------------------------------------------------------------\u001b[0m",
      "\u001b[1;31mZeroDivisionError\u001b[0m                         Traceback (most recent call last)",
      "Cell \u001b[1;32mIn[21], line 4\u001b[0m\n\u001b[0;32m      2\u001b[0m \u001b[38;5;28;01mif\u001b[39;00m \u001b[38;5;241m100\u001b[39m\u001b[38;5;241m>\u001b[39m\u001b[38;5;241m10\u001b[39m:\n\u001b[0;32m      3\u001b[0m     \u001b[38;5;28mprint\u001b[39m(\u001b[38;5;124m\"\u001b[39m\u001b[38;5;124mtrue\u001b[39m\u001b[38;5;124m\"\u001b[39m)\n\u001b[1;32m----> 4\u001b[0m     \u001b[38;5;28mprint\u001b[39m (\u001b[38;5;241m2\u001b[39m\u001b[38;5;241m/\u001b[39m\u001b[38;5;241m0\u001b[39m)\n\u001b[0;32m      5\u001b[0m \u001b[38;5;28;01melse\u001b[39;00m:\n\u001b[0;32m      6\u001b[0m     \u001b[38;5;28mprint\u001b[39m (\u001b[38;5;124m\"\u001b[39m\u001b[38;5;124mfalse\u001b[39m\u001b[38;5;124m\"\u001b[39m)\n",
      "\u001b[1;31mZeroDivisionError\u001b[0m: division by zero"
     ]
    }
   ],
   "source": [
    "print (1)\n",
    "if 100>10:\n",
    "    print(\"true\")\n",
    "    print (2/0)\n",
    "else:\n",
    "    print (\"false\")\n",
    "    print(\"4\")\n",
    "print(\"5\")"
   ]
  },
  {
   "cell_type": "code",
   "execution_count": 22,
   "id": "117a049f-b29c-4125-b91e-708cffdf9062",
   "metadata": {},
   "outputs": [
    {
     "data": {
      "text/plain": [
       "0.8"
      ]
     },
     "execution_count": 22,
     "metadata": {},
     "output_type": "execute_result"
    }
   ],
   "source": [
    "4/5 #/ : division"
   ]
  },
  {
   "cell_type": "code",
   "execution_count": 23,
   "id": "fc1d67a2-07dd-42d0-874a-f0cc0f93e0e7",
   "metadata": {},
   "outputs": [
    {
     "data": {
      "text/plain": [
       "0"
      ]
     },
     "execution_count": 23,
     "metadata": {},
     "output_type": "execute_result"
    }
   ],
   "source": [
    "4//5#//:floor division:quotient "
   ]
  },
  {
   "cell_type": "code",
   "execution_count": 25,
   "id": "6f5c766a-e49b-4d21-b241-573b3c7d7123",
   "metadata": {},
   "outputs": [
    {
     "data": {
      "text/plain": [
       "1"
      ]
     },
     "execution_count": 25,
     "metadata": {},
     "output_type": "execute_result"
    }
   ],
   "source": [
    "5% 4 #  % :modulus : reminder"
   ]
  },
  {
   "cell_type": "code",
   "execution_count": null,
   "id": "a2c8680d-9c11-4d5a-aa36-0a192c2535fc",
   "metadata": {},
   "outputs": [],
   "source": [
    "#wap ask the  user enter a value from keyboard\n",
    "# find whether the number is even or odd \n",
    "#hint :num%2==0"
   ]
  },
  {
   "cell_type": "code",
   "execution_count": 30,
   "id": "a544ba4b-c571-4d04-9e3b-e3d0831df34a",
   "metadata": {},
   "outputs": [
    {
     "name": "stdin",
     "output_type": "stream",
     "text": [
      "Enter your num 24\n"
     ]
    },
    {
     "name": "stdout",
     "output_type": "stream",
     "text": [
      "a is even\n"
     ]
    }
   ],
   "source": [
    " a =eval(input(\"Enter your num\"))\n",
    "if a%2==0:\n",
    "    print (\"a is even\")\n",
    "else:\n",
    "    print (\"a is  odd\")"
   ]
  },
  {
   "cell_type": "code",
   "execution_count": null,
   "id": "2f8e3e5a-46ad-4e46-9c90-7116634cb0d3",
   "metadata": {},
   "outputs": [],
   "source": [
    "# wap implement above the code\n",
    "# by taking num randomly\n"
   ]
  },
  {
   "cell_type": "code",
   "execution_count": 32,
   "id": "aafaed29-319f-4779-a4d2-929f013cf01b",
   "metadata": {},
   "outputs": [
    {
     "name": "stdout",
     "output_type": "stream",
     "text": [
      "the 58 is even  \n"
     ]
    }
   ],
   "source": [
    "import random\n",
    "num=random.randint(10,100)\n",
    "if num%2==0:\n",
    "    print (f\"the {num} is even  \")\n",
    "else:\n",
    "    print (f\"the {num}  is  odd\")\n"
   ]
  },
  {
   "cell_type": "code",
   "execution_count": null,
   "id": "72437aa2-8f20-4af7-9ad2-ac9f70fde488",
   "metadata": {},
   "outputs": [],
   "source": [
    "# game program \n",
    "#there are two numbers \n",
    "# number one comes from random \n",
    "#num2 is taking fron the keyboard"
   ]
  },
  {
   "cell_type": "code",
   "execution_count": 40,
   "id": "2681755a-1810-4327-a9aa-e3ec1a1442ba",
   "metadata": {},
   "outputs": [
    {
     "name": "stdin",
     "output_type": "stream",
     "text": [
      "enter the number:  5\n"
     ]
    },
    {
     "name": "stdout",
     "output_type": "stream",
     "text": [
      "loss\n"
     ]
    }
   ],
   "source": [
    "num1=random.randint(1,100)\n",
    "num2=eval(input(\"enter the number: \"))\n",
    "if num1==num2:\n",
    "    print(\"won\")\n",
    "else:\n",
    "    print(\"loss\")"
   ]
  },
  {
   "cell_type": "code",
   "execution_count": 10,
   "id": "6cd6f30c-2e3c-4605-aa6e-4596bf111bc5",
   "metadata": {},
   "outputs": [
    {
     "ename": "NameError",
     "evalue": "name 'random' is not defined",
     "output_type": "error",
     "traceback": [
      "\u001b[1;31m---------------------------------------------------------------------------\u001b[0m",
      "\u001b[1;31mNameError\u001b[0m                                 Traceback (most recent call last)",
      "Cell \u001b[1;32mIn[10], line 1\u001b[0m\n\u001b[1;32m----> 1\u001b[0m num1\u001b[38;5;241m=\u001b[39mrandom\u001b[38;5;241m.\u001b[39mrandint(\u001b[38;5;241m1\u001b[39m,\u001b[38;5;241m100\u001b[39m)\n\u001b[0;32m      2\u001b[0m \u001b[38;5;28mprint\u001b[39m(\u001b[38;5;124mf\u001b[39m\u001b[38;5;124m\"\u001b[39m\u001b[38;5;132;01m{\u001b[39;00mnum1\u001b[38;5;132;01m}\u001b[39;00m\u001b[38;5;124m\"\u001b[39m)\n\u001b[0;32m      3\u001b[0m num2\u001b[38;5;241m=\u001b[39m\u001b[38;5;28meval\u001b[39m(\u001b[38;5;28minput\u001b[39m(\u001b[38;5;124m\"\u001b[39m\u001b[38;5;124menter the number: \u001b[39m\u001b[38;5;124m\"\u001b[39m))\n",
      "\u001b[1;31mNameError\u001b[0m: name 'random' is not defined"
     ]
    }
   ],
   "source": [
    "num1=random.randint(1,100)\n",
    "print(f\"{num1}\")\n",
    "num2=eval(input(\"enter the number: \"))\n",
    "if num1==num2:\n",
    "    print(\"won\")\n",
    "else:\n",
    "    print(\"loss\")\n",
    "\n"
   ]
  },
  {
   "cell_type": "markdown",
   "id": "aa705133-4404-47c9-99b0-d6effbad37e5",
   "metadata": {},
   "source": [
    "case3 :if-elif -else"
   ]
  },
  {
   "cell_type": "code",
   "execution_count": null,
   "id": "1294fd69-7cdd-42cf-aecb-87162d2ebe28",
   "metadata": {},
   "outputs": [],
   "source": [
    "# if we have two conditions\n",
    "# one condition refer to if block\n",
    "# automatically second condition refer to else block \n",
    "\n",
    "# what happens if we have 3 conditions are tgere\n",
    "#then we will use else block \n",
    "#remaining all other conditions under elif block \n",
    "\n",
    "\n",
    "#syntax\n",
    "#if<con1>:\n",
    "    #st1\n",
    "#elif <cond 2>:\n",
    "    #st2\n",
    "#else :\n",
    "    #st3\n",
    "\n",
    "\n",
    "\n",
    "\n"
   ]
  },
  {
   "cell_type": "code",
   "execution_count": null,
   "id": "dc8a6cc3-eb9b-4b7d-adee-109f4f3d4b2a",
   "metadata": {},
   "outputs": [],
   "source": [
    "#wap ask the user enter a number \n",
    "# is number equal to 1 print 1\n",
    "#if nummber equal to 2 then print 2\n",
    "# if num eaual to  3 print 3\n",
    "#if num equal to 4 print 4\n",
    "other wise print bye"
   ]
  },
  {
   "cell_type": "code",
   "execution_count": 47,
   "id": "c0d6e39c-17e5-4145-8792-10b82b0175d6",
   "metadata": {},
   "outputs": [
    {
     "name": "stdin",
     "output_type": "stream",
     "text": [
      "enter the number 7\n"
     ]
    },
    {
     "name": "stdout",
     "output_type": "stream",
     "text": [
      "bye\n"
     ]
    }
   ],
   "source": [
    "num=eval(input(\"enter the number\"))\n",
    "if num==1:\n",
    "    print( \"1\")\n",
    "elif num==2:\n",
    "    print(\"2\")\n",
    "elif num==3:\n",
    "    print(\"3\")\n",
    "elif num==4:\n",
    "    print(\"4\")\n",
    "else: \n",
    "    print(\"bye\")\n"
   ]
  },
  {
   "cell_type": "code",
   "execution_count": null,
   "id": "628289d5-e165-4be9-bd41-d8941ebd4f31",
   "metadata": {},
   "outputs": [],
   "source": [
    "#wap ask the user\n",
    "#enter marks percentage \n",
    "#if percentage greatervthan 90 then print A grade\n",
    "# if percentage between 70 and 90 print B grade \n",
    "if percentage between 50 to 70 print c grade\n",
    "if percentage 35 to 50 print d grade \n",
    "otherwise print fail"
   ]
  },
  {
   "cell_type": "code",
   "execution_count": 2,
   "id": "4d4ffd60-32ef-4745-aecb-c9fc62e029af",
   "metadata": {},
   "outputs": [
    {
     "name": "stdin",
     "output_type": "stream",
     "text": [
      " 59\n"
     ]
    },
    {
     "name": "stdout",
     "output_type": "stream",
     "text": [
      "c grade\n"
     ]
    }
   ],
   "source": [
    "per=eval(input())\n",
    "if per>90:\n",
    "    print(\"A grade\")\n",
    "elif 70<per<90:\n",
    "    print(\"B grade\")\n",
    "elif 50<per<70:\n",
    "    print(\"c grade\")\n",
    "elif 35<per<50:\n",
    "    print (\"d grade\")\n",
    "else:\n",
    "    print(\"fail\")"
   ]
  },
  {
   "cell_type": "code",
   "execution_count": 3,
   "id": "c2d9cc47-380d-4e5f-97f1-5df287165c3a",
   "metadata": {},
   "outputs": [
    {
     "name": "stdin",
     "output_type": "stream",
     "text": [
      " 35\n"
     ]
    },
    {
     "name": "stdout",
     "output_type": "stream",
     "text": [
      "d grade\n"
     ]
    }
   ],
   "source": [
    "# if  we  use elif  it will consider step  by step  so the input goes from starting\n",
    "per=eval(input())\n",
    "if per>90:\n",
    "    print(\"A grade\")\n",
    "elif per>=70:\n",
    "    print(\"B grade\")\n",
    "elif per>=50:\n",
    "    print(\"c grade\")\n",
    "elif per>=35:\n",
    "    print (\"d grade\")\n",
    "else:\n",
    "    print(\"fail\")\n",
    "\n",
    "#when if condition fails then it  checks next condion i>e elif\n",
    "#suppose elif also fails then it checks next conditon i.e  elif \n",
    "# this chain reaction keeps on continue till the consition should satisfy\n"
   ]
  },
  {
   "cell_type": "code",
   "execution_count": null,
   "id": "8b996e75-f1de-4c1b-ad41-d489d84e9732",
   "metadata": {},
   "outputs": [],
   "source": [
    "#wap ask the user\n",
    "#enter age\n",
    "#if age greatervthan 90 then print luckyman\n",
    "# if age  between 70 and 90 print old man\n",
    "if age  between 35  to 50 print middle aged\n",
    "if age 20 to 35 print young\n",
    "if age 13 to 20 print teen\n",
    "otherwise print kid"
   ]
  },
  {
   "cell_type": "code",
   "execution_count": 6,
   "id": "78bef394-ba05-49b0-b7b7-967026209bb5",
   "metadata": {},
   "outputs": [
    {
     "name": "stdin",
     "output_type": "stream",
     "text": [
      " 14\n"
     ]
    },
    {
     "name": "stdout",
     "output_type": "stream",
     "text": [
      "teen\n"
     ]
    }
   ],
   "source": [
    "age=eval(input())\n",
    "if age>=90:\n",
    "    print(\"lucky man\")\n",
    "elif age>=70:\n",
    "    print(\"old man\")\n",
    "elif age>=35:\n",
    "    print(\"middle aged \")\n",
    "elif age>=20:\n",
    "    print (\"young\")\n",
    "elif age >=13:\n",
    "    print(\"teen\")\n",
    "else:\n",
    "    print(\"fail\")"
   ]
  },
  {
   "cell_type": "code",
   "execution_count": 10,
   "id": "f450fb75-daeb-42b1-92de-a2ec09a6afdd",
   "metadata": {},
   "outputs": [
    {
     "name": "stdin",
     "output_type": "stream",
     "text": [
      " 1\n",
      " 4\n",
      " 4\n"
     ]
    },
    {
     "name": "stdout",
     "output_type": "stream",
     "text": [
      "0.25\n"
     ]
    }
   ],
   "source": [
    "a=eval(input())\n",
    "b=eval(input())\n",
    "opr=eval(input())\n",
    "if opr==1:\n",
    "    print(a+b)\n",
    "elif opr==2:\n",
    "    print(a-b)\n",
    "elif opr==3:\n",
    "    print(a*b)\n",
    "elif opr==4:\n",
    "    print(a/b)"
   ]
  },
  {
   "cell_type": "code",
   "execution_count": null,
   "id": "94e95b85-8083-46c1-a201-175a109c596d",
   "metadata": {},
   "outputs": [],
   "source": [
    "#wap ask the user eneter gennder\n",
    "#if gender = male \n",
    "#ask the use to enter age \n",
    "# if age greater then 30 print middle aged\n",
    "# ther wise print boy"
   ]
  },
  {
   "cell_type": "code",
   "execution_count": 9,
   "id": "95258b5a-295f-4bff-85c7-f83d7093662f",
   "metadata": {},
   "outputs": [
    {
     "name": "stdin",
     "output_type": "stream",
     "text": [
      "enter the gender male\n"
     ]
    },
    {
     "ename": "NameError",
     "evalue": "name 'male' is not defined",
     "output_type": "error",
     "traceback": [
      "\u001b[1;31m---------------------------------------------------------------------------\u001b[0m",
      "\u001b[1;31mNameError\u001b[0m                                 Traceback (most recent call last)",
      "Cell \u001b[1;32mIn[9], line 1\u001b[0m\n\u001b[1;32m----> 1\u001b[0m gender\u001b[38;5;241m=\u001b[39m\u001b[38;5;28meval\u001b[39m(\u001b[38;5;28minput\u001b[39m(\u001b[38;5;124m\"\u001b[39m\u001b[38;5;124menter the gender\u001b[39m\u001b[38;5;124m\"\u001b[39m))\n\u001b[0;32m      2\u001b[0m \u001b[38;5;28;01mif\u001b[39;00m gender\u001b[38;5;241m==\u001b[39m\u001b[38;5;124m'\u001b[39m\u001b[38;5;124mmale\u001b[39m\u001b[38;5;124m'\u001b[39m:\n\u001b[0;32m      3\u001b[0m     age\u001b[38;5;241m=\u001b[39m\u001b[38;5;28meval\u001b[39m(\u001b[38;5;28minput\u001b[39m(\u001b[38;5;124m\"\u001b[39m\u001b[38;5;124menter the age\u001b[39m\u001b[38;5;124m\"\u001b[39m))\n",
      "File \u001b[1;32m<string>:1\u001b[0m\n",
      "\u001b[1;31mNameError\u001b[0m: name 'male' is not defined"
     ]
    }
   ],
   "source": [
    "gender=eval(input(\"enter the gender\"))\n",
    "if gender=='male':\n",
    "    age=eval(input(\"enter the age\"))\n",
    "    if age>=30:\n",
    "        print (\"middle age\")\n",
    "    else:\n",
    "        print(\"boy\") \n",
    "elif gender=='female':\n",
    "    age =eval(input (\"enter age \"))\n",
    "    if age>=30:\n",
    "        print(\" middle aged women\")\n",
    "    else:\n",
    "        print(\"girl\")\n",
    "else:\n",
    "    print (\"enter valid  gender\")\n",
    "\n",
    "         "
   ]
  },
  {
   "cell_type": "markdown",
   "id": "0c15d0ad-e234-4b8c-a523-917ce46465c4",
   "metadata": {},
   "source": [
    "try -expect"
   ]
  },
  {
   "cell_type": "markdown",
   "id": "bb51b758-ad6e-4bf3-9462-b3631689b408",
   "metadata": {},
   "source": [
    "#generally python is a sequential  process\n",
    "#which means if you get error , the compiler will not execute other statements\n",
    "#there is a situations eventhouh if you got error at particular line \n",
    "# compiler should execute some part of the code\n",
    "#this is possible by using try and except method\n",
    "# we have two block \n",
    "  # try block\n",
    "        # the orginal code will run under try block \n",
    "  # except block\n",
    "        # if  any erroe comes it will redirect to except block"
   ]
  },
  {
   "cell_type": "code",
   "execution_count": 1,
   "id": "226c26f4-aa75-49f8-b6dd-2838757b0d1c",
   "metadata": {},
   "outputs": [
    {
     "ename": "ZeroDivisionError",
     "evalue": "division by zero",
     "output_type": "error",
     "traceback": [
      "\u001b[1;31m---------------------------------------------------------------------------\u001b[0m",
      "\u001b[1;31mZeroDivisionError\u001b[0m                         Traceback (most recent call last)",
      "Cell \u001b[1;32mIn[1], line 3\u001b[0m\n\u001b[0;32m      1\u001b[0m a\u001b[38;5;241m=\u001b[39m\u001b[38;5;241m10\u001b[39m\n\u001b[0;32m      2\u001b[0m b\u001b[38;5;241m=\u001b[39m\u001b[38;5;241m0\u001b[39m\n\u001b[1;32m----> 3\u001b[0m a\u001b[38;5;241m/\u001b[39mb\n\u001b[0;32m      4\u001b[0m \u001b[38;5;28mprint\u001b[39m(\u001b[38;5;124m\"\u001b[39m\u001b[38;5;124mhello\u001b[39m\u001b[38;5;124m\"\u001b[39m)\n",
      "\u001b[1;31mZeroDivisionError\u001b[0m: division by zero"
     ]
    }
   ],
   "source": [
    "a=10\n",
    "b=0\n",
    "a/b\n",
    "print(\"hello\")"
   ]
  },
  {
   "cell_type": "code",
   "execution_count": null,
   "id": "d8fe0edf-7d35-402e-9ace-9d1c4c37e92e",
   "metadata": {},
   "outputs": [],
   "source": []
  },
  {
   "cell_type": "code",
   "execution_count": 2,
   "id": "328a7508-06ca-4a43-a875-6116db3ef113",
   "metadata": {},
   "outputs": [
    {
     "name": "stdout",
     "output_type": "stream",
     "text": [
      "hello\n"
     ]
    }
   ],
   "source": [
    "try:\n",
    "    a=10\n",
    "    b=0\n",
    "    a/b\n",
    "except:\n",
    "    print(\"hello\")\n",
    "    \n",
    "    "
   ]
  },
  {
   "cell_type": "code",
   "execution_count": null,
   "id": "fa0fd287-db46-4e33-9104-65301ccd6351",
   "metadata": {},
   "outputs": [],
   "source": [
    "case 1:\n",
    "\n",
    "# whenever we got the error in try block\n",
    "# the compiler will execute stemantsof except block"
   ]
  },
  {
   "cell_type": "code",
   "execution_count": 3,
   "id": "b71965ea-5830-4126-9f44-5b3b28bed7f5",
   "metadata": {},
   "outputs": [
    {
     "name": "stdout",
     "output_type": "stream",
     "text": [
      "the value a is : 10\n",
      "hello\n"
     ]
    }
   ],
   "source": []
  },
  {
   "cell_type": "code",
   "execution_count": null,
   "id": "81e458fc-6532-4d3e-b5e2-92ad6f14c6a1",
   "metadata": {},
   "outputs": [],
   "source": [
    "case :\n",
    "# if there is no error in try block \n",
    "# the compiler will not execute excepblock"
   ]
  },
  {
   "cell_type": "code",
   "execution_count": 5,
   "id": "dee9e694-1c6b-4b1b-9f04-2c054b99337f",
   "metadata": {},
   "outputs": [
    {
     "name": "stdout",
     "output_type": "stream",
     "text": [
      "the value a is : 10\n",
      "the value a is : 10\n",
      "you will not get error\n"
     ]
    }
   ],
   "source": [
    "try:\n",
    "    a=10\n",
    "    b=10\n",
    "    print(\"the value a is :\",a)\n",
    "    print(\"the value a is :\",b)\n",
    "    a/b\n",
    "    print(\"you will not get error\")\n",
    "except:\n",
    "    print(\"hello\")"
   ]
  },
  {
   "cell_type": "code",
   "execution_count": 6,
   "id": "a431a8d1-fc1d-4d6b-8950-446f932294ba",
   "metadata": {},
   "outputs": [
    {
     "name": "stdout",
     "output_type": "stream",
     "text": [
      "hai\n",
      "hello\n"
     ]
    },
    {
     "name": "stdin",
     "output_type": "stream",
     "text": [
      "enter a num1 4\n",
      "enter a num2 5\n"
     ]
    },
    {
     "name": "stdout",
     "output_type": "stream",
     "text": [
      "the addition of4 and 5 is:9\n",
      "bye\n"
     ]
    }
   ],
   "source": [
    "print(\"hai\")\n",
    "print(\"hello\")\n",
    "try:\n",
    "    a=eval(input(\"enter a num1\"))\n",
    "    b=eval(input(\"enter a num2\"))\n",
    "    add=a+b\n",
    "    print(f\"the addition of{a} and {b} is:{add}\")\n",
    "except:\n",
    "    print(\"error is there\")\n",
    "    print(\"check the code\")\n",
    "print(\"bye\")"
   ]
  },
  {
   "cell_type": "code",
   "execution_count": 7,
   "id": "ef214bca-57f8-42a4-b4e6-cffcfac168df",
   "metadata": {},
   "outputs": [
    {
     "name": "stdin",
     "output_type": "stream",
     "text": [
      " 80\n"
     ]
    },
    {
     "name": "stdout",
     "output_type": "stream",
     "text": [
      "old man\n"
     ]
    }
   ],
   "source": [
    "try:\n",
    "    age=eval(input())\n",
    "    if age>=90:\n",
    "        print(\"lucky man\")\n",
    "    elif age>=70:\n",
    "        print(\"old man\")\n",
    "    elif age>=35:\n",
    "        print(\"middle aged \")\n",
    "    elif age>=20:\n",
    "        print (\"young\")\n",
    "    elif age >=13:\n",
    "        print(\"teen\")\n",
    "    else:\n",
    "        print(\"fail\")\n",
    "except exception as e:\n",
    "    print(\"e\")"
   ]
  },
  {
   "cell_type": "markdown",
   "id": "95603350-faf9-4695-8b71-ac602324249b",
   "metadata": {},
   "source": [
    "functions"
   ]
  },
  {
   "cell_type": "code",
   "execution_count": null,
   "id": "a5c4b30b-9b2f-4596-acf6-90f3db836259",
   "metadata": {},
   "outputs": [],
   "source": [
    "**functions**\n",
    "#reuse of the code\n",
    "  #imagine you want to calculate tax of all tax players \n",
    "  # suppose there are 100 tax payers are there  \n",
    "  # in order to calculate tax we require 5 lines of code\n",
    "  # for 100 tax payers it will required 500 lines of code\n",
    "  # this is not the good aproach\n",
    "  # because 5 lines we are reapeating for 100 menbers\n",
    "  # here functions will help us how to use only these 5 lines to all 100 tax payers\n",
    "  "
   ]
  },
  {
   "cell_type": "code",
   "execution_count": null,
   "id": "55b7aa05-f389-4599-9e7b-16ae331e8dd0",
   "metadata": {},
   "outputs": [],
   "source": [
    "salary= eval(input(\"enter the salary\"))\n",
    "tax_per= eval(input(\"enter the tax per :\"))\n",
    "tax_amount=salary*tax_per/100\n",
    "print(\""
   ]
  },
  {
   "cell_type": "code",
   "execution_count": null,
   "id": "d8111cf0-105a-4814-9f17-d8a9c796c6be",
   "metadata": {},
   "outputs": [],
   "source": [
    "#syntax\n",
    "#def<function_name>():\n",
    "#     <code starts here>"
   ]
  },
  {
   "cell_type": "code",
   "execution_count": 1,
   "id": "967aa428-2914-46d8-896a-2ed869de272a",
   "metadata": {},
   "outputs": [
    {
     "name": "stdout",
     "output_type": "stream",
     "text": [
      "30\n"
     ]
    }
   ],
   "source": [
    "n1=10\n",
    "n2=20\n",
    "add=n1+n2\n",
    "print(add)\n"
   ]
  },
  {
   "cell_type": "code",
   "execution_count": 7,
   "id": "d86626ab-7efa-476e-abb6-fd23bd7ba161",
   "metadata": {},
   "outputs": [],
   "source": [
    "def priya():\n",
    "    n1=10\n",
    "    n2=20\n",
    "    add=n1+n2\n",
    "    print(add)\n"
   ]
  },
  {
   "cell_type": "code",
   "execution_count": 4,
   "id": "53eb9357-0332-413c-8e77-b76cd16a436f",
   "metadata": {},
   "outputs": [
    {
     "name": "stdout",
     "output_type": "stream",
     "text": [
      "30\n"
     ]
    }
   ],
   "source": [
    "addition()"
   ]
  },
  {
   "cell_type": "code",
   "execution_count": 8,
   "id": "c2f8667e-ec44-4a9a-882c-9476ba68b256",
   "metadata": {},
   "outputs": [
    {
     "name": "stdout",
     "output_type": "stream",
     "text": [
      "30\n"
     ]
    }
   ],
   "source": [
    "priya()"
   ]
  },
  {
   "cell_type": "code",
   "execution_count": null,
   "id": "11f534ab-286e-4d56-a074-44d55bfbecad",
   "metadata": {},
   "outputs": [],
   "source": [
    "#first mistake you will forget the brackets while define funnction\n",
    "# second mistake you will do you will forget the colon\n",
    "# third mistake you will not give indentation\n",
    "# fourth mistake ,you  will copy the code  you will forget make the allignment \n",
    "#fifth mistake : variable name and functions names must be different\n",
    "#sixmistake: while calling the function you will forget th,e brackts\n",
    "\n",
    "** functions also called a method:**\n",
    "**whenever functions is there brackets must\n",
    "\n"
   ]
  },
  {
   "cell_type": "code",
   "execution_count": 14,
   "id": "86d095a0-2c3f-4776-89b0-55541f80d716",
   "metadata": {},
   "outputs": [
    {
     "ename": "IndentationError",
     "evalue": "unexpected indent (1225939340.py, line 4)",
     "output_type": "error",
     "traceback": [
      "\u001b[1;36m  Cell \u001b[1;32mIn[14], line 4\u001b[1;36m\u001b[0m\n\u001b[1;33m    add=n1+n2\u001b[0m\n\u001b[1;37m    ^\u001b[0m\n\u001b[1;31mIndentationError\u001b[0m\u001b[1;31m:\u001b[0m unexpected indent\n"
     ]
    }
   ],
   "source": [
    "def priya():\n",
    "    n1=10\n",
    "n2=20\n",
    " add=n1+n2\n",
    "    print(add)"
   ]
  },
  {
   "cell_type": "code",
   "execution_count": 9,
   "id": "4338f6d5-c238-43c6-b823-6f5ff87b102d",
   "metadata": {},
   "outputs": [
    {
     "name": "stdout",
     "output_type": "stream",
     "text": [
      "30\n"
     ]
    }
   ],
   "source": [
    "priya()"
   ]
  },
  {
   "cell_type": "code",
   "execution_count": 15,
   "id": "e3024424-71be-4752-8386-e93fadd55fd4",
   "metadata": {},
   "outputs": [],
   "source": [
    "def add1():\n",
    "    n1=eval(input(\"enter the number1:\"))\n",
    "    n2=eval(input(\"enter the number 2\"))\n",
    "    add=n1111+n2\n",
    "    print(add)"
   ]
  },
  {
   "cell_type": "code",
   "execution_count": 16,
   "id": "f9e174d7-0efa-4aac-a2d6-93fb90d5ba79",
   "metadata": {},
   "outputs": [
    {
     "name": "stdin",
     "output_type": "stream",
     "text": [
      "enter the number1: 2\n",
      "enter the number 2 3\n"
     ]
    },
    {
     "ename": "NameError",
     "evalue": "name 'n1111' is not defined",
     "output_type": "error",
     "traceback": [
      "\u001b[1;31m---------------------------------------------------------------------------\u001b[0m",
      "\u001b[1;31mNameError\u001b[0m                                 Traceback (most recent call last)",
      "Cell \u001b[1;32mIn[16], line 1\u001b[0m\n\u001b[1;32m----> 1\u001b[0m add1()\n",
      "Cell \u001b[1;32mIn[15], line 4\u001b[0m, in \u001b[0;36madd1\u001b[1;34m()\u001b[0m\n\u001b[0;32m      2\u001b[0m n1\u001b[38;5;241m=\u001b[39m\u001b[38;5;28meval\u001b[39m(\u001b[38;5;28minput\u001b[39m(\u001b[38;5;124m\"\u001b[39m\u001b[38;5;124menter the number1:\u001b[39m\u001b[38;5;124m\"\u001b[39m))\n\u001b[0;32m      3\u001b[0m n2\u001b[38;5;241m=\u001b[39m\u001b[38;5;28meval\u001b[39m(\u001b[38;5;28minput\u001b[39m(\u001b[38;5;124m\"\u001b[39m\u001b[38;5;124menter the number 2\u001b[39m\u001b[38;5;124m\"\u001b[39m))\n\u001b[1;32m----> 4\u001b[0m add\u001b[38;5;241m=\u001b[39mn1111\u001b[38;5;241m+\u001b[39mn2\n\u001b[0;32m      5\u001b[0m \u001b[38;5;28mprint\u001b[39m(add)\n",
      "\u001b[1;31mNameError\u001b[0m: name 'n1111' is not defined"
     ]
    }
   ],
   "source": [
    "add1()"
   ]
  },
  {
   "cell_type": "code",
   "execution_count": null,
   "id": "f3c63546-46fa-426d-ad9a-d4e8c5669acd",
   "metadata": {},
   "outputs": [],
   "source": [
    "** note**\n",
    "when we define the function will not give the error\n",
    "error will dispplay after caling the function only"
   ]
  },
  {
   "cell_type": "code",
   "execution_count": null,
   "id": "fd127aff-22d7-4d8a-9759-34aa140db471",
   "metadata": {},
   "outputs": [],
   "source": [
    "# create the function\n",
    "# read three numbers find "
   ]
  },
  {
   "cell_type": "code",
   "execution_count": 23,
   "id": "c0f2da63-d280-4ec0-a990-caca0c961e60",
   "metadata": {},
   "outputs": [
    {
     "name": "stdin",
     "output_type": "stream",
     "text": [
      "enter num1: 3\n",
      "enternum2: 3\n",
      "enter num3: 4\n"
     ]
    },
    {
     "name": "stdout",
     "output_type": "stream",
     "text": [
      "average of three numbers is:3.3333333333333335 \n"
     ]
    }
   ],
   "source": [
    "def avg():\n",
    "    num1=eval(input(\"enter num1:\"))\n",
    "    num2=eval(input(\"enternum2:\"))\n",
    "    num3=eval(input(\"enter num3:\"))\n",
    "    sum=num1+num2+num3\n",
    "    avg=sum/3\n",
    "    print(f\"average of three numbers is:{avg} \")\n",
    "avg()"
   ]
  },
  {
   "cell_type": "code",
   "execution_count": 21,
   "id": "e6a61433-ac65-49a6-b16d-d0e561244686",
   "metadata": {},
   "outputs": [
    {
     "name": "stdin",
     "output_type": "stream",
     "text": [
      "enter num1: 3\n",
      "enternum2: 4\n",
      "enter num3: 5\n"
     ]
    }
   ],
   "source": [
    "# crea"
   ]
  },
  {
   "cell_type": "code",
   "execution_count": null,
   "id": "46b2c639-3b6e-4323-b765-faf17cecc522",
   "metadata": {},
   "outputs": [],
   "source": [
    "create a function ask the user enter the bill amount\n",
    "#enter the tip per\n",
    "#calculate total bill "
   ]
  },
  {
   "cell_type": "code",
   "execution_count": null,
   "id": "8eb04088-fea8-4b0c-b6f8-2d7074a1c724",
   "metadata": {},
   "outputs": [],
   "source": [
    "def  abc():\n",
    "    bill amount=eval(input(\"enter the bill amount:\"))\n",
    "    tip per = eval(input(\" enter the tip percentage:\"))\n",
    "     "
   ]
  },
  {
   "cell_type": "code",
   "execution_count": null,
   "id": "e1f0086c-b13d-45f2-8be9-7b5d72c4dbee",
   "metadata": {},
   "outputs": [],
   "source": []
  },
  {
   "cell_type": "code",
   "execution_count": 4,
   "id": "0c272b07-7b6a-4f9d-9f1c-13ce75e83aa9",
   "metadata": {},
   "outputs": [
    {
     "name": "stdout",
     "output_type": "stream",
     "text": [
      "num1:10 \n",
      "num2:20\n"
     ]
    },
    {
     "name": "stdin",
     "output_type": "stream",
     "text": [
      "enter num3: 60\n"
     ]
    },
    {
     "name": "stdout",
     "output_type": "stream",
     "text": [
      "average of three numbers is:30.0 \n"
     ]
    }
   ],
   "source": [
    " def avg(num1,num2):\n",
    "     print(f\"num1:{num1} \")\n",
    "     print(f\"num2:{num2}\")\n",
    "     num3=eval(input(\"enter num3:\"))\n",
    "     sum=num1+num2+num3\n",
    "     avg=sum/3\n",
    "     print(f\"average of three numbers is:{avg} \")\n",
    "avg(10,20)"
   ]
  },
  {
   "cell_type": "code",
   "execution_count": 7,
   "id": "4d762e98-c94a-4884-811b-bdb6c4768880",
   "metadata": {},
   "outputs": [
    {
     "name": "stdout",
     "output_type": "stream",
     "text": [
      "num1:9 \n",
      "num2:49\n",
      "num3:68 \n",
      "average of three numbers is:42.0 \n"
     ]
    }
   ],
   "source": [
    "import random\n",
    "def avg(num1):\n",
    "     print(f\"num1:{num1} \")\n",
    "     num2=random.randint(1,100)\n",
    "     print(f\"num2:{num2}\")\n",
    "     num3=random.randint(1,100)\n",
    "     print(f\"num3:{num3} \")\n",
    "     sum=num1+num2+num3\n",
    "     avg=sum/3\n",
    "     print(f\"average of three numbers is:{avg} \")\n",
    "avg(num1=random.randint(1,100))"
   ]
  },
  {
   "cell_type": "code",
   "execution_count": 11,
   "id": "1d0524a1-6365-46ef-a82e-fdf3f2f826bf",
   "metadata": {},
   "outputs": [
    {
     "name": "stdout",
     "output_type": "stream",
     "text": [
      "total total bill is8900.0\n"
     ]
    }
   ],
   "source": [
    "def billing(bill,tipper):\n",
    "    tipamount=(bill*tipper/100)\n",
    "    totalbill=tipamount+bill\n",
    "    print(f\"total total bill is{totalbill}\")\n",
    "billing(5000,78)\n",
    "\n",
    "    \n",
    "    \n"
   ]
  },
  {
   "cell_type": "code",
   "execution_count": 12,
   "id": "78abab41-ebcb-4e28-a646-246de71b2f59",
   "metadata": {},
   "outputs": [
    {
     "name": "stdin",
     "output_type": "stream",
     "text": [
      "enter the bill 4000\n",
      "enter the tipper 5\n"
     ]
    },
    {
     "name": "stdout",
     "output_type": "stream",
     "text": [
      " your tip percentage is 5\n",
      "total total bill is4200.0\n"
     ]
    }
   ],
   "source": [
    "def billing(bill):\n",
    "    tipper=eval(input(\"enter the tipper\"))\n",
    "    print(f\" your tip percentage is {tipper}\")\n",
    "    tipamount=(bill*tipper/100)\n",
    "    totalbill=tipamount+bill\n",
    "    print(f\"total total bill is{totalbill}\")\n",
    "billing(eval(input(\"enter the bill\")))"
   ]
  },
  {
   "cell_type": "code",
   "execution_count": 16,
   "id": "7d9e980c-313d-4509-b302-c799219919f1",
   "metadata": {},
   "outputs": [
    {
     "name": "stdout",
     "output_type": "stream",
     "text": [
      " your bill amount is 1237\n",
      " your  tipper is 9\n",
      "total total bill is1348.33\n"
     ]
    }
   ],
   "source": [
    "\n",
    "def billing(bill,tipper):\n",
    "    \n",
    "    print(f\" your bill amount is {bill}\")\n",
    "    print(f\" your  tipper is {tipper}\")\n",
    "    tipamount=(bill*tipper/100)\n",
    "    totalbill=tipamount+bill\n",
    "    print(f\"total total bill is{totalbill}\")\n",
    "billing(random.randint(1,5000),random.randint(1,10))\n"
   ]
  },
  {
   "cell_type": "code",
   "execution_count": null,
   "id": "08c9f349-31eb-4dc4-a804-5cbf659b546d",
   "metadata": {},
   "outputs": [],
   "source": [
    "\n",
    "* default argument means the arguments are fixed\n"
   ]
  },
  {
   "cell_type": "code",
   "execution_count": null,
   "id": "7c3f050c-fd43-464c-8769-98d8648b4de7",
   "metadata": {},
   "outputs": [],
   "source": [
    "case :1;\n",
    "# make all the arguments are default\n",
    "# so no need to pass the value while calling thw function  \n",
    "\n"
   ]
  },
  {
   "cell_type": "code",
   "execution_count": null,
   "id": "58c11614-c9c9-403c-9680-43815f5a75c1",
   "metadata": {},
   "outputs": [],
   "source": [
    "global varialble and local variable concept\n",
    "# local variable means  the variables defined inside the function\n",
    "# local variable canot access outside the function\n",
    "# global variables means the variables dfeine outside the function\n",
    "# global variable can access any where anytime "
   ]
  },
  {
   "cell_type": "code",
   "execution_count": 19,
   "id": "33daeb10-b2dd-407f-aaef-d55ff4b51b68",
   "metadata": {},
   "outputs": [
    {
     "name": "stdout",
     "output_type": "stream",
     "text": [
      "30\n"
     ]
    }
   ],
   "source": [
    "# local variable\n",
    "def addition():\n",
    "    n1=10\n",
    "    n2=20\n",
    "    print(n1+n2)\n",
    "addition()"
   ]
  },
  {
   "cell_type": "code",
   "execution_count": 24,
   "id": "ccb99fec-f113-4e08-b138-37956db33040",
   "metadata": {},
   "outputs": [
    {
     "name": "stdout",
     "output_type": "stream",
     "text": [
      "400\n"
     ]
    }
   ],
   "source": [
    "#global variable\n",
    "number1=10\n",
    "number2=40\n",
    "def mul():\n",
    "    print(number1*number2)\n",
    "mul()"
   ]
  },
  {
   "cell_type": "code",
   "execution_count": 23,
   "id": "f2bac709-471a-45b8-8070-5458d37ef684",
   "metadata": {},
   "outputs": [
    {
     "name": "stdout",
     "output_type": "stream",
     "text": [
      "30\n"
     ]
    }
   ],
   "source": [
    "addition()"
   ]
  },
  {
   "cell_type": "code",
   "execution_count": 25,
   "id": "00ee8d20-3a5f-4066-ade8-6568b82e7029",
   "metadata": {},
   "outputs": [
    {
     "name": "stdout",
     "output_type": "stream",
     "text": [
      "400\n"
     ]
    }
   ],
   "source": [
    "mul()"
   ]
  },
  {
   "cell_type": "code",
   "execution_count": null,
   "id": "9e1485a2-0739-4e4e-8aa3-cfc51f889aa1",
   "metadata": {},
   "outputs": [],
   "source": [
    " # functions with out arguments \n",
    "# functions with arguments\n",
    "# functions with default arguments \n"
   ]
  },
  {
   "cell_type": "code",
   "execution_count": 1,
   "id": "37199986-46d8-4399-a67a-39476a11b8c2",
   "metadata": {},
   "outputs": [
    {
     "name": "stdin",
     "output_type": "stream",
     "text": [
      "enter the num1: 4\n",
      "enter the num2: 5\n"
     ]
    },
    {
     "name": "stdout",
     "output_type": "stream",
     "text": [
      "the average of 4 and 5 is 4.5\n"
     ]
    }
   ],
   "source": [
    "num1=eval(input(\"enter the num1:\"))\n",
    "num2 =eval(input(\"enter the num2:\"))\n",
    "sum=num1+num2\n",
    "avg=sum/2\n",
    "print(f\"the average of {num1} and {num2} is {avg}\")"
   ]
  },
  {
   "cell_type": "code",
   "execution_count": 2,
   "id": "bdcd72e2-434f-455c-98c8-395e111eaa85",
   "metadata": {},
   "outputs": [
    {
     "name": "stdin",
     "output_type": "stream",
     "text": [
      "enter the num1: 4\n",
      "enter the num2: 5\n"
     ]
    },
    {
     "name": "stdout",
     "output_type": "stream",
     "text": [
      "the average of 4 and 5 is 4.5\n"
     ]
    }
   ],
   "source": [
    "def average():\n",
    "    num1=eval(input(\"enter the num1:\"))\n",
    "    num2 =eval(input(\"enter the num2:\"))\n",
    "    sum=num1+num2\n",
    "    avg=sum/2\n",
    "    print(f\"the average of {num1} and {num2} is {avg}\")\n",
    "average"
   ]
  },
  {
   "cell_type": "code",
   "execution_count": null,
   "id": "99cac067-02fc-4e2b-9da2-0c25f352ebe3",
   "metadata": {},
   "outputs": [],
   "source": []
  },
  {
   "cell_type": "code",
   "execution_count": 5,
   "id": "0a3359b7-e3d3-4114-9c18-725097017677",
   "metadata": {},
   "outputs": [
    {
     "name": "stdin",
     "output_type": "stream",
     "text": [
      "enter the num1: 4\n",
      "enter the num1: 6\n"
     ]
    },
    {
     "name": "stdout",
     "output_type": "stream",
     "text": [
      "the average of 4 and 6 is 5.0\n"
     ]
    }
   ],
   "source": [
    "def average(num1,num2):\n",
    "    sum=num1+num2\n",
    "    avg=sum/2\n",
    "    print(f\"the average of {num1} and {num2} is {avg}\")\n",
    "average(eval(input(\"enter the num1:\")),eval(input(\"enter the num1:\")))"
   ]
  },
  {
   "cell_type": "code",
   "execution_count": null,
   "id": "3e6a9604-5d22-48a2-bbab-bfab112904e8",
   "metadata": {},
   "outputs": [],
   "source": [
    "def add():\n",
    "    print(a+b)\n",
    "add()\n",
    "a=10\n",
    "b=20\n",
    "# values are no redy by the time of calling si it gives error like a is not defined"
   ]
  },
  {
   "cell_type": "code",
   "execution_count": 9,
   "id": "56ea93b4-c67a-44a6-86c8-99118124ed6b",
   "metadata": {},
   "outputs": [
    {
     "name": "stdout",
     "output_type": "stream",
     "text": [
      "30\n"
     ]
    }
   ],
   "source": [
    "def add1():\n",
    "    print(a+b)\n",
    "a=10\n",
    "b=20\n",
    "add1()\n",
    "# variables are ready  by the time of calling "
   ]
  },
  {
   "cell_type": "code",
   "execution_count": 10,
   "id": "013d6780-5e5d-4e93-9f73-814f2b9782c6",
   "metadata": {},
   "outputs": [
    {
     "ename": "UnboundLocalError",
     "evalue": "cannot access local variable 'a' where it is not associated with a value",
     "output_type": "error",
     "traceback": [
      "\u001b[1;31m---------------------------------------------------------------------------\u001b[0m",
      "\u001b[1;31mUnboundLocalError\u001b[0m                         Traceback (most recent call last)",
      "Cell \u001b[1;32mIn[10], line 5\u001b[0m\n\u001b[0;32m      3\u001b[0m     a\u001b[38;5;241m=\u001b[39m\u001b[38;5;241m10\u001b[39m\n\u001b[0;32m      4\u001b[0m     b\u001b[38;5;241m=\u001b[39m\u001b[38;5;241m20\u001b[39m\n\u001b[1;32m----> 5\u001b[0m add1()\n",
      "Cell \u001b[1;32mIn[10], line 2\u001b[0m, in \u001b[0;36madd1\u001b[1;34m()\u001b[0m\n\u001b[0;32m      1\u001b[0m \u001b[38;5;28;01mdef\u001b[39;00m \u001b[38;5;21madd1\u001b[39m():\n\u001b[1;32m----> 2\u001b[0m     \u001b[38;5;28mprint\u001b[39m(a\u001b[38;5;241m+\u001b[39mb)\n\u001b[0;32m      3\u001b[0m     a\u001b[38;5;241m=\u001b[39m\u001b[38;5;241m10\u001b[39m\n\u001b[0;32m      4\u001b[0m     b\u001b[38;5;241m=\u001b[39m\u001b[38;5;241m20\u001b[39m\n",
      "\u001b[1;31mUnboundLocalError\u001b[0m: cannot access local variable 'a' where it is not associated with a value"
     ]
    }
   ],
   "source": [
    "def add1():\n",
    "    print(a+b)\n",
    "    a=10\n",
    "    b=20\n",
    "add1()\n",
    "# here the variable declares  inside function and the values declred after performing the function so its not useful so it gives error "
   ]
  },
  {
   "cell_type": "code",
   "execution_count": 12,
   "id": "bcfa9afe-7189-41dc-b773-73869b36a62d",
   "metadata": {},
   "outputs": [
    {
     "name": "stdout",
     "output_type": "stream",
     "text": [
      "30\n"
     ]
    }
   ],
   "source": [
    "def add1():\n",
    "    a1=10\n",
    "    b1=20\n",
    "    print(a1+b1)\n",
    "   \n",
    "add1()"
   ]
  },
  {
   "cell_type": "code",
   "execution_count": 13,
   "id": "2e107ba6-c30f-4abe-b998-c82b072023ad",
   "metadata": {},
   "outputs": [
    {
     "name": "stdout",
     "output_type": "stream",
     "text": [
      "20\n"
     ]
    }
   ],
   "source": [
    "s=10\n",
    "def add1():\n",
    "    s=20\n",
    "    print(s)\n",
    "\n",
    "add1()"
   ]
  },
  {
   "cell_type": "code",
   "execution_count": 15,
   "id": "3367f452-7e6a-403b-8eed-3c7c2e22911c",
   "metadata": {},
   "outputs": [
    {
     "data": {
      "text/plain": [
       "10"
      ]
     },
     "execution_count": 15,
     "metadata": {},
     "output_type": "execute_result"
    }
   ],
   "source": [
    "s\n"
   ]
  },
  {
   "cell_type": "code",
   "execution_count": 16,
   "id": "d5977fd5-b609-4f21-bc67-465b97f73033",
   "metadata": {},
   "outputs": [
    {
     "name": "stdout",
     "output_type": "stream",
     "text": [
      "20\n"
     ]
    }
   ],
   "source": [
    "s=10\n",
    "def add1():\n",
    "    global s\n",
    "    s=20\n",
    "    print(s)\n",
    "\n",
    "add1()"
   ]
  },
  {
   "cell_type": "code",
   "execution_count": 17,
   "id": "8e59013a-da56-43bd-95da-54afd03cac86",
   "metadata": {},
   "outputs": [
    {
     "data": {
      "text/plain": [
       "20"
      ]
     },
     "execution_count": 17,
     "metadata": {},
     "output_type": "execute_result"
    }
   ],
   "source": [
    "s"
   ]
  },
  {
   "cell_type": "code",
   "execution_count": null,
   "id": "aabc3889-6be4-406f-8ec8-833d568275d1",
   "metadata": {},
   "outputs": [],
   "source": [
    "* use the local variables :outside function without using global variable\n",
    "* we already know that local variables cant use outside the function directly\n",
    "* if we want to use local variables outside the function we need to use global keyword\n",
    "* we can also use the local variables without using global keyword\n",
    "* that concept is called return"
   ]
  },
  {
   "cell_type": "code",
   "execution_count": 20,
   "id": "100c0b98-81d2-4a60-bba1-a64fc736e9f0",
   "metadata": {},
   "outputs": [
    {
     "name": "stdout",
     "output_type": "stream",
     "text": [
      "30\n"
     ]
    }
   ],
   "source": [
    "def add2():\n",
    "    nu1=10\n",
    "    nu2=20\n",
    "    print(nu1+nu2)\n",
    "add2()"
   ]
  },
  {
   "cell_type": "code",
   "execution_count": 21,
   "id": "0f7aca8c-d923-4521-b285-14da5209df9d",
   "metadata": {},
   "outputs": [
    {
     "ename": "NameError",
     "evalue": "name 'nu1' is not defined",
     "output_type": "error",
     "traceback": [
      "\u001b[1;31m---------------------------------------------------------------------------\u001b[0m",
      "\u001b[1;31mNameError\u001b[0m                                 Traceback (most recent call last)",
      "Cell \u001b[1;32mIn[21], line 1\u001b[0m\n\u001b[1;32m----> 1\u001b[0m nu1\n",
      "\u001b[1;31mNameError\u001b[0m: name 'nu1' is not defined"
     ]
    }
   ],
   "source": [
    "nu1"
   ]
  },
  {
   "cell_type": "code",
   "execution_count": 22,
   "id": "795af340-ef8b-42ee-a9b4-7759622a3288",
   "metadata": {},
   "outputs": [
    {
     "name": "stdout",
     "output_type": "stream",
     "text": [
      "10\n"
     ]
    }
   ],
   "source": [
    "def add2():\n",
    "    nu1=10\n",
    "    nu2=20\n",
    "    sum1=nu1+nu2\n",
    "    return(nu1)\n",
    "  \n",
    "nu1=add2()\n",
    "print(nu1)"
   ]
  },
  {
   "cell_type": "code",
   "execution_count": 24,
   "id": "7c4bc92a-7850-473d-b0f0-c6a581563d67",
   "metadata": {},
   "outputs": [
    {
     "name": "stdout",
     "output_type": "stream",
     "text": [
      "30\n"
     ]
    }
   ],
   "source": [
    "def add2():\n",
    "    nu1=10\n",
    "    nu2=20\n",
    "    sum1=nu1+nu2\n",
    "    return(sum1)\n",
    "  \n",
    "sum1=add2()\n",
    "print(sum1)"
   ]
  },
  {
   "cell_type": "code",
   "execution_count": 27,
   "id": "9e54c032-302a-47b2-a579-a8dd645f1ed7",
   "metadata": {},
   "outputs": [
    {
     "name": "stdout",
     "output_type": "stream",
     "text": [
      "30\n",
      "10\n",
      "20\n"
     ]
    }
   ],
   "source": [
    "def add2():\n",
    "    nu1=10\n",
    "    nu2=20\n",
    "    sum1=nu1+nu2\n",
    "    return(sum1,nu1,nu2)\n",
    "  \n",
    "sum1,nu1,nu2=add2()\n",
    "print(sum1)\n",
    "print(nu1)\n",
    "print(nu2)"
   ]
  },
  {
   "cell_type": "code",
   "execution_count": 33,
   "id": "25357141-4d53-409e-8057-f1bdd485d8e0",
   "metadata": {},
   "outputs": [],
   "source": [
    "def avg3():\n",
    "    nu1=10\n",
    "    nu2=20\n",
    "    sum1=nu1+nu2\n",
    "    avg=sum1/2\n",
    "    return(nu1,nu2,sum1,avg)\n",
    "nu1,nu2,sum1,avg=avg3()\n"
   ]
  },
  {
   "cell_type": "code",
   "execution_count": 29,
   "id": "63f37b67-51c1-41c3-a905-af6e6faa909c",
   "metadata": {},
   "outputs": [
    {
     "data": {
      "text/plain": [
       "15.0"
      ]
     },
     "execution_count": 29,
     "metadata": {},
     "output_type": "execute_result"
    }
   ],
   "source": [
    "avg"
   ]
  },
  {
   "cell_type": "code",
   "execution_count": 31,
   "id": "1d411390-dd21-4d4e-a175-81747ba8f43d",
   "metadata": {},
   "outputs": [
    {
     "data": {
      "text/plain": [
       "10"
      ]
     },
     "execution_count": 31,
     "metadata": {},
     "output_type": "execute_result"
    }
   ],
   "source": [
    "nu1"
   ]
  },
  {
   "cell_type": "code",
   "execution_count": 34,
   "id": "b4ab2ca5-7aaa-4db6-8439-a70f061aa048",
   "metadata": {},
   "outputs": [
    {
     "data": {
      "text/plain": [
       "10"
      ]
     },
     "execution_count": 34,
     "metadata": {},
     "output_type": "execute_result"
    }
   ],
   "source": [
    "nu1"
   ]
  },
  {
   "cell_type": "code",
   "execution_count": 3,
   "id": "a8bbd90f-80c0-4ce8-93e1-cf4d4535fb30",
   "metadata": {},
   "outputs": [
    {
     "name": "stdout",
     "output_type": "stream",
     "text": [
      "30\n"
     ]
    }
   ],
   "source": [
    "a=10\n",
    "b=20\n",
    "c=a+b\n",
    "print(c)\n"
   ]
  },
  {
   "cell_type": "code",
   "execution_count": null,
   "id": "46af5f6e-62e1-4780-84ea-24b8949155c0",
   "metadata": {},
   "outputs": [],
   "source": []
  }
 ],
 "metadata": {
  "kernelspec": {
   "display_name": "Python 3 (ipykernel)",
   "language": "python",
   "name": "python3"
  },
  "language_info": {
   "codemirror_mode": {
    "name": "ipython",
    "version": 3
   },
   "file_extension": ".py",
   "mimetype": "text/x-python",
   "name": "python",
   "nbconvert_exporter": "python",
   "pygments_lexer": "ipython3",
   "version": "3.11.7"
  }
 },
 "nbformat": 4,
 "nbformat_minor": 5
}
